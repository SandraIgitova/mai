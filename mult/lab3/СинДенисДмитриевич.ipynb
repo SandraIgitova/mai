{
 "cells": [
  {
   "cell_type": "code",
   "execution_count": 1,
   "metadata": {},
   "outputs": [],
   "source": [
    "import matplotlib.pyplot as plt\n",
    "import seaborn as sns\n",
    "import pandas as pd\n",
    "import numpy as np\n",
    "import warnings\n",
    "warnings.simplefilter(\"ignore\")\n",
    "%matplotlib inline\n",
    "\n",
    "sns.set(style=\"darkgrid\")"
   ]
  },
  {
   "cell_type": "code",
   "execution_count": 2,
   "metadata": {},
   "outputs": [
    {
     "data": {
      "text/html": [
       "<div>\n",
       "<style scoped>\n",
       "    .dataframe tbody tr th:only-of-type {\n",
       "        vertical-align: middle;\n",
       "    }\n",
       "\n",
       "    .dataframe tbody tr th {\n",
       "        vertical-align: top;\n",
       "    }\n",
       "\n",
       "    .dataframe thead th {\n",
       "        text-align: right;\n",
       "    }\n",
       "</style>\n",
       "<table border=\"1\" class=\"dataframe\">\n",
       "  <thead>\n",
       "    <tr style=\"text-align: right;\">\n",
       "      <th></th>\n",
       "      <th>Id</th>\n",
       "      <th>MSSubClass</th>\n",
       "      <th>MSZoning</th>\n",
       "      <th>LotFrontage</th>\n",
       "      <th>LotArea</th>\n",
       "      <th>Street</th>\n",
       "      <th>Alley</th>\n",
       "      <th>LotShape</th>\n",
       "      <th>LandContour</th>\n",
       "      <th>Utilities</th>\n",
       "      <th>...</th>\n",
       "      <th>PoolArea</th>\n",
       "      <th>PoolQC</th>\n",
       "      <th>Fence</th>\n",
       "      <th>MiscFeature</th>\n",
       "      <th>MiscVal</th>\n",
       "      <th>MoSold</th>\n",
       "      <th>YrSold</th>\n",
       "      <th>SaleType</th>\n",
       "      <th>SaleCondition</th>\n",
       "      <th>SalePrice</th>\n",
       "    </tr>\n",
       "  </thead>\n",
       "  <tbody>\n",
       "    <tr>\n",
       "      <th>0</th>\n",
       "      <td>1</td>\n",
       "      <td>60</td>\n",
       "      <td>RL</td>\n",
       "      <td>65.0</td>\n",
       "      <td>8450</td>\n",
       "      <td>Pave</td>\n",
       "      <td>NaN</td>\n",
       "      <td>Reg</td>\n",
       "      <td>Lvl</td>\n",
       "      <td>AllPub</td>\n",
       "      <td>...</td>\n",
       "      <td>0</td>\n",
       "      <td>NaN</td>\n",
       "      <td>NaN</td>\n",
       "      <td>NaN</td>\n",
       "      <td>0</td>\n",
       "      <td>2</td>\n",
       "      <td>2008</td>\n",
       "      <td>WD</td>\n",
       "      <td>Normal</td>\n",
       "      <td>208500</td>\n",
       "    </tr>\n",
       "    <tr>\n",
       "      <th>1</th>\n",
       "      <td>2</td>\n",
       "      <td>20</td>\n",
       "      <td>RL</td>\n",
       "      <td>80.0</td>\n",
       "      <td>9600</td>\n",
       "      <td>Pave</td>\n",
       "      <td>NaN</td>\n",
       "      <td>Reg</td>\n",
       "      <td>Lvl</td>\n",
       "      <td>AllPub</td>\n",
       "      <td>...</td>\n",
       "      <td>0</td>\n",
       "      <td>NaN</td>\n",
       "      <td>NaN</td>\n",
       "      <td>NaN</td>\n",
       "      <td>0</td>\n",
       "      <td>5</td>\n",
       "      <td>2007</td>\n",
       "      <td>WD</td>\n",
       "      <td>Normal</td>\n",
       "      <td>181500</td>\n",
       "    </tr>\n",
       "    <tr>\n",
       "      <th>2</th>\n",
       "      <td>3</td>\n",
       "      <td>60</td>\n",
       "      <td>RL</td>\n",
       "      <td>68.0</td>\n",
       "      <td>11250</td>\n",
       "      <td>Pave</td>\n",
       "      <td>NaN</td>\n",
       "      <td>IR1</td>\n",
       "      <td>Lvl</td>\n",
       "      <td>AllPub</td>\n",
       "      <td>...</td>\n",
       "      <td>0</td>\n",
       "      <td>NaN</td>\n",
       "      <td>NaN</td>\n",
       "      <td>NaN</td>\n",
       "      <td>0</td>\n",
       "      <td>9</td>\n",
       "      <td>2008</td>\n",
       "      <td>WD</td>\n",
       "      <td>Normal</td>\n",
       "      <td>223500</td>\n",
       "    </tr>\n",
       "    <tr>\n",
       "      <th>3</th>\n",
       "      <td>4</td>\n",
       "      <td>70</td>\n",
       "      <td>RL</td>\n",
       "      <td>60.0</td>\n",
       "      <td>9550</td>\n",
       "      <td>Pave</td>\n",
       "      <td>NaN</td>\n",
       "      <td>IR1</td>\n",
       "      <td>Lvl</td>\n",
       "      <td>AllPub</td>\n",
       "      <td>...</td>\n",
       "      <td>0</td>\n",
       "      <td>NaN</td>\n",
       "      <td>NaN</td>\n",
       "      <td>NaN</td>\n",
       "      <td>0</td>\n",
       "      <td>2</td>\n",
       "      <td>2006</td>\n",
       "      <td>WD</td>\n",
       "      <td>Abnorml</td>\n",
       "      <td>140000</td>\n",
       "    </tr>\n",
       "    <tr>\n",
       "      <th>4</th>\n",
       "      <td>5</td>\n",
       "      <td>60</td>\n",
       "      <td>RL</td>\n",
       "      <td>84.0</td>\n",
       "      <td>14260</td>\n",
       "      <td>Pave</td>\n",
       "      <td>NaN</td>\n",
       "      <td>IR1</td>\n",
       "      <td>Lvl</td>\n",
       "      <td>AllPub</td>\n",
       "      <td>...</td>\n",
       "      <td>0</td>\n",
       "      <td>NaN</td>\n",
       "      <td>NaN</td>\n",
       "      <td>NaN</td>\n",
       "      <td>0</td>\n",
       "      <td>12</td>\n",
       "      <td>2008</td>\n",
       "      <td>WD</td>\n",
       "      <td>Normal</td>\n",
       "      <td>250000</td>\n",
       "    </tr>\n",
       "  </tbody>\n",
       "</table>\n",
       "<p>5 rows × 81 columns</p>\n",
       "</div>"
      ],
      "text/plain": [
       "   Id  MSSubClass MSZoning  LotFrontage  LotArea Street Alley LotShape  \\\n",
       "0   1          60       RL         65.0     8450   Pave   NaN      Reg   \n",
       "1   2          20       RL         80.0     9600   Pave   NaN      Reg   \n",
       "2   3          60       RL         68.0    11250   Pave   NaN      IR1   \n",
       "3   4          70       RL         60.0     9550   Pave   NaN      IR1   \n",
       "4   5          60       RL         84.0    14260   Pave   NaN      IR1   \n",
       "\n",
       "  LandContour Utilities  ... PoolArea PoolQC Fence MiscFeature MiscVal MoSold  \\\n",
       "0         Lvl    AllPub  ...        0    NaN   NaN         NaN       0      2   \n",
       "1         Lvl    AllPub  ...        0    NaN   NaN         NaN       0      5   \n",
       "2         Lvl    AllPub  ...        0    NaN   NaN         NaN       0      9   \n",
       "3         Lvl    AllPub  ...        0    NaN   NaN         NaN       0      2   \n",
       "4         Lvl    AllPub  ...        0    NaN   NaN         NaN       0     12   \n",
       "\n",
       "  YrSold  SaleType  SaleCondition  SalePrice  \n",
       "0   2008        WD         Normal     208500  \n",
       "1   2007        WD         Normal     181500  \n",
       "2   2008        WD         Normal     223500  \n",
       "3   2006        WD        Abnorml     140000  \n",
       "4   2008        WD         Normal     250000  \n",
       "\n",
       "[5 rows x 81 columns]"
      ]
     },
     "execution_count": 2,
     "metadata": {},
     "output_type": "execute_result"
    }
   ],
   "source": [
    "data = pd.read_csv(\"train.csv\")\n",
    "data.head()"
   ]
  },
  {
   "cell_type": "code",
   "execution_count": 3,
   "metadata": {},
   "outputs": [
    {
     "data": {
      "text/plain": [
       "(1460, 81)"
      ]
     },
     "execution_count": 3,
     "metadata": {},
     "output_type": "execute_result"
    }
   ],
   "source": [
    "data.shape"
   ]
  },
  {
   "cell_type": "code",
   "execution_count": 4,
   "metadata": {},
   "outputs": [
    {
     "data": {
      "text/plain": [
       "Index(['Id', 'MSSubClass', 'MSZoning', 'LotFrontage', 'LotArea', 'Street',\n",
       "       'Alley', 'LotShape', 'LandContour', 'Utilities', 'LotConfig',\n",
       "       'LandSlope', 'Neighborhood', 'Condition1', 'Condition2', 'BldgType',\n",
       "       'HouseStyle', 'OverallQual', 'OverallCond', 'YearBuilt', 'YearRemodAdd',\n",
       "       'RoofStyle', 'RoofMatl', 'Exterior1st', 'Exterior2nd', 'MasVnrType',\n",
       "       'MasVnrArea', 'ExterQual', 'ExterCond', 'Foundation', 'BsmtQual',\n",
       "       'BsmtCond', 'BsmtExposure', 'BsmtFinType1', 'BsmtFinSF1',\n",
       "       'BsmtFinType2', 'BsmtFinSF2', 'BsmtUnfSF', 'TotalBsmtSF', 'Heating',\n",
       "       'HeatingQC', 'CentralAir', 'Electrical', '1stFlrSF', '2ndFlrSF',\n",
       "       'LowQualFinSF', 'GrLivArea', 'BsmtFullBath', 'BsmtHalfBath', 'FullBath',\n",
       "       'HalfBath', 'BedroomAbvGr', 'KitchenAbvGr', 'KitchenQual',\n",
       "       'TotRmsAbvGrd', 'Functional', 'Fireplaces', 'FireplaceQu', 'GarageType',\n",
       "       'GarageYrBlt', 'GarageFinish', 'GarageCars', 'GarageArea', 'GarageQual',\n",
       "       'GarageCond', 'PavedDrive', 'WoodDeckSF', 'OpenPorchSF',\n",
       "       'EnclosedPorch', '3SsnPorch', 'ScreenPorch', 'PoolArea', 'PoolQC',\n",
       "       'Fence', 'MiscFeature', 'MiscVal', 'MoSold', 'YrSold', 'SaleType',\n",
       "       'SaleCondition', 'SalePrice'],\n",
       "      dtype='object')"
      ]
     },
     "execution_count": 4,
     "metadata": {},
     "output_type": "execute_result"
    }
   ],
   "source": [
    "data.columns"
   ]
  },
  {
   "cell_type": "code",
   "execution_count": 5,
   "metadata": {},
   "outputs": [],
   "source": [
    "from sklearn.model_selection import train_test_split\n",
    "\n",
    "data = data.drop(columns=[\"Id\"])\n",
    "\n",
    "y = data[\"SalePrice\"]\n",
    "X = data.drop(columns=[\"SalePrice\"])\n",
    "\n",
    "X_train, X_test, y_train, y_test = train_test_split(X, y, test_size=0.3, random_state=10)"
   ]
  },
  {
   "cell_type": "code",
   "execution_count": null,
   "metadata": {},
   "outputs": [],
   "source": []
  },
  {
   "cell_type": "code",
   "execution_count": 6,
   "metadata": {},
   "outputs": [
    {
     "data": {
      "text/plain": [
       "<AxesSubplot:xlabel='SalePrice', ylabel='Density'>"
      ]
     },
     "execution_count": 6,
     "metadata": {},
     "output_type": "execute_result"
    },
    {
     "data": {
      "image/png": "[encoded data removed]",
      "text/plain": [
       "<Figure size 432x288 with 1 Axes>"
      ]
     },
     "metadata": {},
     "output_type": "display_data"
    }
   ],
   "source": [
    "sns.distplot(y_train)"
   ]
  },
  {
   "cell_type": "code",
   "execution_count": 7,
   "metadata": {},
   "outputs": [
    {
     "data": {
      "text/plain": [
       "Index(['MSSubClass', 'LotFrontage', 'LotArea', 'OverallQual', 'OverallCond',\n",
       "       'YearBuilt', 'YearRemodAdd', 'MasVnrArea', 'BsmtFinSF1', 'BsmtFinSF2',\n",
       "       'BsmtUnfSF', 'TotalBsmtSF', '1stFlrSF', '2ndFlrSF', 'LowQualFinSF',\n",
       "       'GrLivArea', 'BsmtFullBath', 'BsmtHalfBath', 'FullBath', 'HalfBath',\n",
       "       'BedroomAbvGr', 'KitchenAbvGr', 'TotRmsAbvGrd', 'Fireplaces',\n",
       "       'GarageYrBlt', 'GarageCars', 'GarageArea', 'WoodDeckSF', 'OpenPorchSF',\n",
       "       'EnclosedPorch', '3SsnPorch', 'ScreenPorch', 'PoolArea', 'MiscVal',\n",
       "       'MoSold', 'YrSold'],\n",
       "      dtype='object')"
      ]
     },
     "execution_count": 7,
     "metadata": {},
     "output_type": "execute_result"
    }
   ],
   "source": [
    "# Обучите линейную регрессию (LinearRegression, Ridge, Lasso) на числовых признаках из нашего датасета\n",
    "numeric_features = X.select_dtypes(include=np.number).columns\n",
    "numeric_features"
   ]
  },
  {
   "cell_type": "code",
   "execution_count": 8,
   "metadata": {},
   "outputs": [
    {
     "data": {
      "text/plain": [
       "['LotFrontage', 'MasVnrArea', 'GarageYrBlt']"
      ]
     },
     "execution_count": 8,
     "metadata": {},
     "output_type": "execute_result"
    }
   ],
   "source": [
    "nan_columns = X_train[numeric_features].columns[X_train[numeric_features].isna().any()].tolist()\n",
    "nan_columns"
   ]
  },
  {
   "cell_type": "code",
   "execution_count": 9,
   "metadata": {},
   "outputs": [],
   "source": [
    "for column in nan_columns:\n",
    "    X_train[column] = X_train[column].replace(np.nan, X_train[column].median())\n",
    "    X_test[column] = X_test[column].replace(np.nan, X_test[column].median())"
   ]
  },
  {
   "cell_type": "code",
   "execution_count": 10,
   "metadata": {},
   "outputs": [],
   "source": [
    "from sklearn.linear_model import LinearRegression, Ridge, Lasso\n",
    "regressions = {\n",
    "    'Linear regression': LinearRegression(),\n",
    "    'Ridge': Ridge(),\n",
    "    'Lasso': Lasso()\n",
    "}\n",
    "for model in regressions.values():\n",
    "    model.fit(X_train[numeric_features], y_train)"
   ]
  },
  {
   "cell_type": "markdown",
   "metadata": {},
   "source": [
    "$$\\text{RMSE}(X, y, a) = \\sqrt{\\frac{1}{\\ell}\\sum_{i=1}^{\\ell} (y_i - a(x_i))^2}$$"
   ]
  },
  {
   "cell_type": "code",
   "execution_count": 11,
   "metadata": {},
   "outputs": [],
   "source": [
    "# Определите RMSE через функцию sklearn.metrics.make_scorer\n",
    "from sklearn.metrics import make_scorer, r2_score\n",
    "\n",
    "\n",
    "def rmse(y, y_pred, **kwargs):\n",
    "    return np.sqrt(np.mean((y - y_pred) ** 2))\n",
    "rmse_score = make_scorer(rmse, greater_is_better=False)"
   ]
  },
  {
   "cell_type": "code",
   "execution_count": 12,
   "metadata": {},
   "outputs": [
    {
     "name": "stdout",
     "output_type": "stream",
     "text": [
      "Linear regression score=0.8046129013720409, r2_score = 0.7571663363901132\n",
      "Ridge score=0.8046112367778868, r2_score = 0.7570714122371559\n",
      "Lasso score=0.8046128828136784, r2_score = 0.7571574858207825\n"
     ]
    }
   ],
   "source": [
    "for name, model in regressions.items():\n",
    "    print(f'{name} score={model.score(X_train[numeric_features], y_train)}, r2_score = {r2_score(model.predict(X_train[numeric_features]), y_train)}')"
   ]
  },
  {
   "cell_type": "code",
   "execution_count": 13,
   "metadata": {},
   "outputs": [
    {
     "name": "stdout",
     "output_type": "stream",
     "text": [
      "Linear regression, rmse = 35622.27535186687\n",
      "Ridge, rmse = 35622.427092962935\n",
      "Lasso, rmse = 35622.27704361389\n"
     ]
    }
   ],
   "source": [
    "for name, model in regressions.items():\n",
    "    print(f'{name}, rmse = {rmse(y_train, model.predict(X_train[numeric_features]))}')"
   ]
  },
  {
   "cell_type": "code",
   "execution_count": 14,
   "metadata": {},
   "outputs": [],
   "source": [
    "def show_weights(features, weights, scales):\n",
    "    fig, axs = plt.subplots(figsize=(14, 10), ncols=2)\n",
    "    sorted_weights = sorted(zip(weights, features, scales), reverse=True)\n",
    "    weights = [x[0] for x in sorted_weights]\n",
    "    features = [x[1] for x in sorted_weights]\n",
    "    scales = [x[2] for x in sorted_weights]\n",
    "    sns.barplot(y=features, x=weights, ax=axs[0])\n",
    "    axs[0].set_xlabel(\"Weight\")\n",
    "    sns.barplot(y=features, x=scales, ax=axs[1])\n",
    "    axs[1].set_xlabel(\"Scale\")\n",
    "    plt.tight_layout()"
   ]
  },
  {
   "cell_type": "code",
   "execution_count": 15,
   "metadata": {},
   "outputs": [
    {
     "data": {
      "image/png": "[encoded data removed]",
      "text/plain": [
       "<Figure size 1008x720 with 2 Axes>"
      ]
     },
     "metadata": {},
     "output_type": "display_data"
    }
   ],
   "source": [
    "show_weights(numeric_features, regressions['Linear regression'].coef_, X_train[numeric_features].std())"
   ]
  },
  {
   "cell_type": "code",
   "execution_count": 16,
   "metadata": {},
   "outputs": [],
   "source": [
    "# Отмасштабируйте признаки перед обучением модели, воспользуясь трансформером StandardScaler\n",
    "from sklearn.preprocessing import StandardScaler\n",
    "standard_scalaer = StandardScaler()\n",
    "X_train_scaled = standard_scalaer.fit_transform(X_train[numeric_features])"
   ]
  },
  {
   "cell_type": "code",
   "execution_count": 17,
   "metadata": {},
   "outputs": [
    {
     "data": {
      "image/png": "[encoded data removed]",
      "text/plain": [
       "<Figure size 1008x720 with 2 Axes>"
      ]
     },
     "metadata": {},
     "output_type": "display_data"
    }
   ],
   "source": [
    "scales = pd.Series(data=X_train_scaled.std(axis=0), index=numeric_features)\n",
    "show_weights(numeric_features, regressions['Linear regression'].coef_, scales)"
   ]
  },
  {
   "cell_type": "code",
   "execution_count": 18,
   "metadata": {},
   "outputs": [
    {
     "data": {
      "text/html": [
       "<div>\n",
       "<style scoped>\n",
       "    .dataframe tbody tr th:only-of-type {\n",
       "        vertical-align: middle;\n",
       "    }\n",
       "\n",
       "    .dataframe tbody tr th {\n",
       "        vertical-align: top;\n",
       "    }\n",
       "\n",
       "    .dataframe thead th {\n",
       "        text-align: right;\n",
       "    }\n",
       "</style>\n",
       "<table border=\"1\" class=\"dataframe\">\n",
       "  <thead>\n",
       "    <tr style=\"text-align: right;\">\n",
       "      <th></th>\n",
       "      <th>MSSubClass</th>\n",
       "      <th>LotFrontage</th>\n",
       "      <th>LotArea</th>\n",
       "      <th>OverallQual</th>\n",
       "      <th>OverallCond</th>\n",
       "      <th>YearBuilt</th>\n",
       "      <th>YearRemodAdd</th>\n",
       "      <th>MasVnrArea</th>\n",
       "      <th>BsmtFinSF1</th>\n",
       "      <th>BsmtFinSF2</th>\n",
       "      <th>...</th>\n",
       "      <th>GarageArea</th>\n",
       "      <th>WoodDeckSF</th>\n",
       "      <th>OpenPorchSF</th>\n",
       "      <th>EnclosedPorch</th>\n",
       "      <th>3SsnPorch</th>\n",
       "      <th>ScreenPorch</th>\n",
       "      <th>PoolArea</th>\n",
       "      <th>MiscVal</th>\n",
       "      <th>MoSold</th>\n",
       "      <th>YrSold</th>\n",
       "    </tr>\n",
       "  </thead>\n",
       "  <tbody>\n",
       "    <tr>\n",
       "      <th>0</th>\n",
       "      <td>-0.637138</td>\n",
       "      <td>-0.830815</td>\n",
       "      <td>-0.403687</td>\n",
       "      <td>-0.832137</td>\n",
       "      <td>1.322374</td>\n",
       "      <td>-1.536211</td>\n",
       "      <td>-1.693863</td>\n",
       "      <td>-0.571109</td>\n",
       "      <td>0.089078</td>\n",
       "      <td>-0.272009</td>\n",
       "      <td>...</td>\n",
       "      <td>-0.131383</td>\n",
       "      <td>-0.763658</td>\n",
       "      <td>-0.718645</td>\n",
       "      <td>1.457220</td>\n",
       "      <td>-0.120091</td>\n",
       "      <td>2.066933</td>\n",
       "      <td>-0.069273</td>\n",
       "      <td>0.966329</td>\n",
       "      <td>0.249209</td>\n",
       "      <td>-1.398058</td>\n",
       "    </tr>\n",
       "    <tr>\n",
       "      <th>1</th>\n",
       "      <td>-0.872425</td>\n",
       "      <td>0.382608</td>\n",
       "      <td>-0.004215</td>\n",
       "      <td>-0.832137</td>\n",
       "      <td>0.402383</td>\n",
       "      <td>-0.612735</td>\n",
       "      <td>-1.548422</td>\n",
       "      <td>-0.571109</td>\n",
       "      <td>-0.041272</td>\n",
       "      <td>0.926265</td>\n",
       "      <td>...</td>\n",
       "      <td>-0.965581</td>\n",
       "      <td>-0.237065</td>\n",
       "      <td>-0.718645</td>\n",
       "      <td>-0.355401</td>\n",
       "      <td>-0.120091</td>\n",
       "      <td>-0.268873</td>\n",
       "      <td>-0.069273</td>\n",
       "      <td>-0.092919</td>\n",
       "      <td>1.712956</td>\n",
       "      <td>0.885610</td>\n",
       "    </tr>\n",
       "    <tr>\n",
       "      <th>2</th>\n",
       "      <td>0.068721</td>\n",
       "      <td>1.336013</td>\n",
       "      <td>0.312690</td>\n",
       "      <td>1.354094</td>\n",
       "      <td>-0.517607</td>\n",
       "      <td>1.102291</td>\n",
       "      <td>1.021023</td>\n",
       "      <td>1.465174</td>\n",
       "      <td>-0.955862</td>\n",
       "      <td>-0.272009</td>\n",
       "      <td>...</td>\n",
       "      <td>1.736294</td>\n",
       "      <td>1.151225</td>\n",
       "      <td>1.608545</td>\n",
       "      <td>-0.355401</td>\n",
       "      <td>-0.120091</td>\n",
       "      <td>-0.268873</td>\n",
       "      <td>-0.069273</td>\n",
       "      <td>-0.092919</td>\n",
       "      <td>1.712956</td>\n",
       "      <td>-1.398058</td>\n",
       "    </tr>\n",
       "    <tr>\n",
       "      <th>3</th>\n",
       "      <td>0.068721</td>\n",
       "      <td>0.382608</td>\n",
       "      <td>0.187291</td>\n",
       "      <td>-0.103393</td>\n",
       "      <td>-0.517607</td>\n",
       "      <td>0.838441</td>\n",
       "      <td>0.584702</td>\n",
       "      <td>-0.571109</td>\n",
       "      <td>0.031382</td>\n",
       "      <td>-0.272009</td>\n",
       "      <td>...</td>\n",
       "      <td>0.577685</td>\n",
       "      <td>2.451749</td>\n",
       "      <td>1.004080</td>\n",
       "      <td>2.638661</td>\n",
       "      <td>-0.120091</td>\n",
       "      <td>-0.268873</td>\n",
       "      <td>-0.069273</td>\n",
       "      <td>0.590467</td>\n",
       "      <td>-0.482664</td>\n",
       "      <td>0.124388</td>\n",
       "    </tr>\n",
       "    <tr>\n",
       "      <th>4</th>\n",
       "      <td>0.068721</td>\n",
       "      <td>-0.007421</td>\n",
       "      <td>0.364725</td>\n",
       "      <td>-0.103393</td>\n",
       "      <td>-0.517607</td>\n",
       "      <td>-0.019072</td>\n",
       "      <td>-0.675780</td>\n",
       "      <td>0.779268</td>\n",
       "      <td>-0.066915</td>\n",
       "      <td>-0.272009</td>\n",
       "      <td>...</td>\n",
       "      <td>0.077167</td>\n",
       "      <td>-0.763658</td>\n",
       "      <td>0.278722</td>\n",
       "      <td>-0.355401</td>\n",
       "      <td>-0.120091</td>\n",
       "      <td>-0.268873</td>\n",
       "      <td>-0.069273</td>\n",
       "      <td>-0.092919</td>\n",
       "      <td>-0.116727</td>\n",
       "      <td>-1.398058</td>\n",
       "    </tr>\n",
       "    <tr>\n",
       "      <th>...</th>\n",
       "      <td>...</td>\n",
       "      <td>...</td>\n",
       "      <td>...</td>\n",
       "      <td>...</td>\n",
       "      <td>...</td>\n",
       "      <td>...</td>\n",
       "      <td>...</td>\n",
       "      <td>...</td>\n",
       "      <td>...</td>\n",
       "      <td>...</td>\n",
       "      <td>...</td>\n",
       "      <td>...</td>\n",
       "      <td>...</td>\n",
       "      <td>...</td>\n",
       "      <td>...</td>\n",
       "      <td>...</td>\n",
       "      <td>...</td>\n",
       "      <td>...</td>\n",
       "      <td>...</td>\n",
       "      <td>...</td>\n",
       "      <td>...</td>\n",
       "    </tr>\n",
       "    <tr>\n",
       "      <th>1017</th>\n",
       "      <td>3.127446</td>\n",
       "      <td>-0.440786</td>\n",
       "      <td>0.010475</td>\n",
       "      <td>-0.103393</td>\n",
       "      <td>1.322374</td>\n",
       "      <td>-2.195837</td>\n",
       "      <td>0.730143</td>\n",
       "      <td>-0.571109</td>\n",
       "      <td>-0.955862</td>\n",
       "      <td>-0.272009</td>\n",
       "      <td>...</td>\n",
       "      <td>0.897461</td>\n",
       "      <td>-0.763658</td>\n",
       "      <td>-0.340854</td>\n",
       "      <td>3.075632</td>\n",
       "      <td>-0.120091</td>\n",
       "      <td>-0.268873</td>\n",
       "      <td>-0.069273</td>\n",
       "      <td>-0.092919</td>\n",
       "      <td>-0.848601</td>\n",
       "      <td>0.124388</td>\n",
       "    </tr>\n",
       "    <tr>\n",
       "      <th>1018</th>\n",
       "      <td>0.068721</td>\n",
       "      <td>0.642628</td>\n",
       "      <td>0.037290</td>\n",
       "      <td>0.625350</td>\n",
       "      <td>-0.517607</td>\n",
       "      <td>1.135273</td>\n",
       "      <td>1.021023</td>\n",
       "      <td>-0.571109</td>\n",
       "      <td>-0.955862</td>\n",
       "      <td>-0.272009</td>\n",
       "      <td>...</td>\n",
       "      <td>-0.177727</td>\n",
       "      <td>-0.763658</td>\n",
       "      <td>-0.718645</td>\n",
       "      <td>-0.355401</td>\n",
       "      <td>-0.120091</td>\n",
       "      <td>-0.268873</td>\n",
       "      <td>-0.069273</td>\n",
       "      <td>-0.092919</td>\n",
       "      <td>0.249209</td>\n",
       "      <td>-0.636835</td>\n",
       "    </tr>\n",
       "    <tr>\n",
       "      <th>1019</th>\n",
       "      <td>0.068721</td>\n",
       "      <td>-0.137430</td>\n",
       "      <td>0.377557</td>\n",
       "      <td>2.082837</td>\n",
       "      <td>-0.517607</td>\n",
       "      <td>1.201235</td>\n",
       "      <td>1.117984</td>\n",
       "      <td>0.865006</td>\n",
       "      <td>1.886204</td>\n",
       "      <td>-0.272009</td>\n",
       "      <td>...</td>\n",
       "      <td>1.759466</td>\n",
       "      <td>0.241656</td>\n",
       "      <td>0.278722</td>\n",
       "      <td>-0.355401</td>\n",
       "      <td>-0.120091</td>\n",
       "      <td>-0.268873</td>\n",
       "      <td>-0.069273</td>\n",
       "      <td>-0.092919</td>\n",
       "      <td>1.712956</td>\n",
       "      <td>0.124388</td>\n",
       "    </tr>\n",
       "    <tr>\n",
       "      <th>1020</th>\n",
       "      <td>0.304008</td>\n",
       "      <td>-0.874152</td>\n",
       "      <td>-0.148818</td>\n",
       "      <td>0.625350</td>\n",
       "      <td>3.162354</td>\n",
       "      <td>-1.701118</td>\n",
       "      <td>0.148381</td>\n",
       "      <td>-0.571109</td>\n",
       "      <td>0.377559</td>\n",
       "      <td>-0.272009</td>\n",
       "      <td>...</td>\n",
       "      <td>-0.715322</td>\n",
       "      <td>-0.763658</td>\n",
       "      <td>-0.718645</td>\n",
       "      <td>-0.355401</td>\n",
       "      <td>-0.120091</td>\n",
       "      <td>-0.268873</td>\n",
       "      <td>-0.069273</td>\n",
       "      <td>-0.092919</td>\n",
       "      <td>0.249209</td>\n",
       "      <td>0.885610</td>\n",
       "    </tr>\n",
       "    <tr>\n",
       "      <th>1021</th>\n",
       "      <td>0.068721</td>\n",
       "      <td>0.685964</td>\n",
       "      <td>0.033927</td>\n",
       "      <td>1.354094</td>\n",
       "      <td>-0.517607</td>\n",
       "      <td>1.135273</td>\n",
       "      <td>1.021023</td>\n",
       "      <td>3.651499</td>\n",
       "      <td>-0.955862</td>\n",
       "      <td>-0.272009</td>\n",
       "      <td>...</td>\n",
       "      <td>1.272851</td>\n",
       "      <td>0.648568</td>\n",
       "      <td>0.399615</td>\n",
       "      <td>-0.355401</td>\n",
       "      <td>-0.120091</td>\n",
       "      <td>-0.268873</td>\n",
       "      <td>-0.069273</td>\n",
       "      <td>-0.092919</td>\n",
       "      <td>1.347019</td>\n",
       "      <td>-1.398058</td>\n",
       "    </tr>\n",
       "  </tbody>\n",
       "</table>\n",
       "<p>1022 rows × 36 columns</p>\n",
       "</div>"
      ],
      "text/plain": [
       "      MSSubClass  LotFrontage   LotArea  OverallQual  OverallCond  YearBuilt  \\\n",
       "0      -0.637138    -0.830815 -0.403687    -0.832137     1.322374  -1.536211   \n",
       "1      -0.872425     0.382608 -0.004215    -0.832137     0.402383  -0.612735   \n",
       "2       0.068721     1.336013  0.312690     1.354094    -0.517607   1.102291   \n",
       "3       0.068721     0.382608  0.187291    -0.103393    -0.517607   0.838441   \n",
       "4       0.068721    -0.007421  0.364725    -0.103393    -0.517607  -0.019072   \n",
       "...          ...          ...       ...          ...          ...        ...   \n",
       "1017    3.127446    -0.440786  0.010475    -0.103393     1.322374  -2.195837   \n",
       "1018    0.068721     0.642628  0.037290     0.625350    -0.517607   1.135273   \n",
       "1019    0.068721    -0.137430  0.377557     2.082837    -0.517607   1.201235   \n",
       "1020    0.304008    -0.874152 -0.148818     0.625350     3.162354  -1.701118   \n",
       "1021    0.068721     0.685964  0.033927     1.354094    -0.517607   1.135273   \n",
       "\n",
       "      YearRemodAdd  MasVnrArea  BsmtFinSF1  BsmtFinSF2  ...  GarageArea  \\\n",
       "0        -1.693863   -0.571109    0.089078   -0.272009  ...   -0.131383   \n",
       "1        -1.548422   -0.571109   -0.041272    0.926265  ...   -0.965581   \n",
       "2         1.021023    1.465174   -0.955862   -0.272009  ...    1.736294   \n",
       "3         0.584702   -0.571109    0.031382   -0.272009  ...    0.577685   \n",
       "4        -0.675780    0.779268   -0.066915   -0.272009  ...    0.077167   \n",
       "...            ...         ...         ...         ...  ...         ...   \n",
       "1017      0.730143   -0.571109   -0.955862   -0.272009  ...    0.897461   \n",
       "1018      1.021023   -0.571109   -0.955862   -0.272009  ...   -0.177727   \n",
       "1019      1.117984    0.865006    1.886204   -0.272009  ...    1.759466   \n",
       "1020      0.148381   -0.571109    0.377559   -0.272009  ...   -0.715322   \n",
       "1021      1.021023    3.651499   -0.955862   -0.272009  ...    1.272851   \n",
       "\n",
       "      WoodDeckSF  OpenPorchSF  EnclosedPorch  3SsnPorch  ScreenPorch  \\\n",
       "0      -0.763658    -0.718645       1.457220  -0.120091     2.066933   \n",
       "1      -0.237065    -0.718645      -0.355401  -0.120091    -0.268873   \n",
       "2       1.151225     1.608545      -0.355401  -0.120091    -0.268873   \n",
       "3       2.451749     1.004080       2.638661  -0.120091    -0.268873   \n",
       "4      -0.763658     0.278722      -0.355401  -0.120091    -0.268873   \n",
       "...          ...          ...            ...        ...          ...   \n",
       "1017   -0.763658    -0.340854       3.075632  -0.120091    -0.268873   \n",
       "1018   -0.763658    -0.718645      -0.355401  -0.120091    -0.268873   \n",
       "1019    0.241656     0.278722      -0.355401  -0.120091    -0.268873   \n",
       "1020   -0.763658    -0.718645      -0.355401  -0.120091    -0.268873   \n",
       "1021    0.648568     0.399615      -0.355401  -0.120091    -0.268873   \n",
       "\n",
       "      PoolArea   MiscVal    MoSold    YrSold  \n",
       "0    -0.069273  0.966329  0.249209 -1.398058  \n",
       "1    -0.069273 -0.092919  1.712956  0.885610  \n",
       "2    -0.069273 -0.092919  1.712956 -1.398058  \n",
       "3    -0.069273  0.590467 -0.482664  0.124388  \n",
       "4    -0.069273 -0.092919 -0.116727 -1.398058  \n",
       "...        ...       ...       ...       ...  \n",
       "1017 -0.069273 -0.092919 -0.848601  0.124388  \n",
       "1018 -0.069273 -0.092919  0.249209 -0.636835  \n",
       "1019 -0.069273 -0.092919  1.712956  0.124388  \n",
       "1020 -0.069273 -0.092919  0.249209  0.885610  \n",
       "1021 -0.069273 -0.092919  1.347019 -1.398058  \n",
       "\n",
       "[1022 rows x 36 columns]"
      ]
     },
     "execution_count": 18,
     "metadata": {},
     "output_type": "execute_result"
    }
   ],
   "source": [
    "pd.DataFrame(X_train_scaled, columns=numeric_features)"
   ]
  },
  {
   "cell_type": "code",
   "execution_count": 19,
   "metadata": {},
   "outputs": [
    {
     "name": "stdout",
     "output_type": "stream",
     "text": [
      "{'alpha': 6.899999999999951}\n",
      "0.7132581365549217\n",
      "Lasso(alpha=6.899999999999951)\n"
     ]
    }
   ],
   "source": [
    "# Подберите коэффициент регуляризации alpha, воспользуясь GridSearchCV\n",
    "from sklearn.model_selection import GridSearchCV\n",
    "\n",
    "\n",
    "grid_search = GridSearchCV(Lasso(), {'alpha': np.arange(-7, 7, 0.1)}, cv=5)\n",
    "grid_search.fit(X_train_scaled, y_train)\n",
    "print(grid_search.best_params_)\n",
    "print(grid_search.best_score_)\n",
    "print(grid_search.best_estimator_)"
   ]
  },
  {
   "cell_type": "code",
   "execution_count": 20,
   "metadata": {},
   "outputs": [
    {
     "name": "stdout",
     "output_type": "stream",
     "text": [
      "{'alpha': 6.899999999999951}\n",
      "0.7145815871230324\n",
      "Ridge(alpha=6.899999999999951)\n"
     ]
    }
   ],
   "source": [
    "grid_search = GridSearchCV(Ridge(), {'alpha': np.arange(-7, 7, 0.1)}, cv=5)\n",
    "grid_search.fit(X_train_scaled, y_train)\n",
    "print(grid_search.best_params_)\n",
    "print(grid_search.best_score_)\n",
    "print(grid_search.best_estimator_)"
   ]
  },
  {
   "cell_type": "code",
   "execution_count": 21,
   "metadata": {},
   "outputs": [
    {
     "name": "stdout",
     "output_type": "stream",
     "text": [
      "train rmse: 35624.68008226688\n",
      "train r2 score: 0.8045865207351927\n",
      "test rmse: 32042.144716197607\n",
      "test r2 score: 0.8247481828618\n"
     ]
    }
   ],
   "source": [
    "# Обучите линейную регрессию (LinearRegression, Ridge, Lasso) с подобранным коэффициентом регуляризации на числовых признаках из нашего датасета, воспользуясь классом Pipeline (не забывать про мастабирование признаков через StandardScaler)\n",
    "from sklearn.pipeline import Pipeline\n",
    "\n",
    "\n",
    "pipe = Pipeline([('scaler', StandardScaler()), ('ridge', Ridge(alpha=6.9))])\n",
    "pipe.fit(X_train[numeric_features], y_train)\n",
    "print(f'train rmse: {rmse(y_train, pipe.predict(X_train[numeric_features]))}')\n",
    "print(f'train r2 score: {r2_score(y_train, pipe.predict(X_train[numeric_features]))}')\n",
    "print(f'test rmse: {rmse(y_test, pipe.predict(X_test[numeric_features]))}')\n",
    "print(f'test r2 score: {r2_score(y_test, pipe.predict(X_test[numeric_features]))}')"
   ]
  },
  {
   "cell_type": "code",
   "execution_count": 22,
   "metadata": {},
   "outputs": [],
   "source": [
    "categorical = list(X_train.dtypes[X_train.dtypes == \"object\"].index)\n",
    "X_train[categorical] = X_train[categorical].fillna(\"NotGiven\")\n",
    "X_test[categorical] = X_test[categorical].fillna(\"NotGiven\")"
   ]
  },
  {
   "cell_type": "code",
   "execution_count": 23,
   "metadata": {},
   "outputs": [
    {
     "data": {
      "text/html": [
       "<div>\n",
       "<style scoped>\n",
       "    .dataframe tbody tr th:only-of-type {\n",
       "        vertical-align: middle;\n",
       "    }\n",
       "\n",
       "    .dataframe tbody tr th {\n",
       "        vertical-align: top;\n",
       "    }\n",
       "\n",
       "    .dataframe thead th {\n",
       "        text-align: right;\n",
       "    }\n",
       "</style>\n",
       "<table border=\"1\" class=\"dataframe\">\n",
       "  <thead>\n",
       "    <tr style=\"text-align: right;\">\n",
       "      <th></th>\n",
       "      <th>MSZoning</th>\n",
       "      <th>Street</th>\n",
       "      <th>Alley</th>\n",
       "      <th>LotShape</th>\n",
       "      <th>LandContour</th>\n",
       "      <th>Utilities</th>\n",
       "      <th>LotConfig</th>\n",
       "      <th>LandSlope</th>\n",
       "      <th>Neighborhood</th>\n",
       "      <th>Condition1</th>\n",
       "      <th>...</th>\n",
       "      <th>GarageType</th>\n",
       "      <th>GarageFinish</th>\n",
       "      <th>GarageQual</th>\n",
       "      <th>GarageCond</th>\n",
       "      <th>PavedDrive</th>\n",
       "      <th>PoolQC</th>\n",
       "      <th>Fence</th>\n",
       "      <th>MiscFeature</th>\n",
       "      <th>SaleType</th>\n",
       "      <th>SaleCondition</th>\n",
       "    </tr>\n",
       "  </thead>\n",
       "  <tbody>\n",
       "    <tr>\n",
       "      <th>1283</th>\n",
       "      <td>RL</td>\n",
       "      <td>Pave</td>\n",
       "      <td>NotGiven</td>\n",
       "      <td>Reg</td>\n",
       "      <td>Low</td>\n",
       "      <td>AllPub</td>\n",
       "      <td>Corner</td>\n",
       "      <td>Gtl</td>\n",
       "      <td>Mitchel</td>\n",
       "      <td>Norm</td>\n",
       "      <td>...</td>\n",
       "      <td>NotGiven</td>\n",
       "      <td>NotGiven</td>\n",
       "      <td>NotGiven</td>\n",
       "      <td>NotGiven</td>\n",
       "      <td>Y</td>\n",
       "      <td>NotGiven</td>\n",
       "      <td>NotGiven</td>\n",
       "      <td>NotGiven</td>\n",
       "      <td>WD</td>\n",
       "      <td>Normal</td>\n",
       "    </tr>\n",
       "    <tr>\n",
       "      <th>347</th>\n",
       "      <td>RL</td>\n",
       "      <td>Pave</td>\n",
       "      <td>NotGiven</td>\n",
       "      <td>IR1</td>\n",
       "      <td>Lvl</td>\n",
       "      <td>AllPub</td>\n",
       "      <td>Inside</td>\n",
       "      <td>Gtl</td>\n",
       "      <td>NAmes</td>\n",
       "      <td>Norm</td>\n",
       "      <td>...</td>\n",
       "      <td>Attchd</td>\n",
       "      <td>Unf</td>\n",
       "      <td>TA</td>\n",
       "      <td>TA</td>\n",
       "      <td>Y</td>\n",
       "      <td>NotGiven</td>\n",
       "      <td>NotGiven</td>\n",
       "      <td>NotGiven</td>\n",
       "      <td>WD</td>\n",
       "      <td>Normal</td>\n",
       "    </tr>\n",
       "    <tr>\n",
       "      <th>753</th>\n",
       "      <td>RL</td>\n",
       "      <td>Pave</td>\n",
       "      <td>NotGiven</td>\n",
       "      <td>Reg</td>\n",
       "      <td>Lvl</td>\n",
       "      <td>AllPub</td>\n",
       "      <td>Inside</td>\n",
       "      <td>Gtl</td>\n",
       "      <td>NridgHt</td>\n",
       "      <td>Norm</td>\n",
       "      <td>...</td>\n",
       "      <td>Attchd</td>\n",
       "      <td>RFn</td>\n",
       "      <td>TA</td>\n",
       "      <td>TA</td>\n",
       "      <td>Y</td>\n",
       "      <td>NotGiven</td>\n",
       "      <td>NotGiven</td>\n",
       "      <td>NotGiven</td>\n",
       "      <td>WD</td>\n",
       "      <td>Normal</td>\n",
       "    </tr>\n",
       "    <tr>\n",
       "      <th>624</th>\n",
       "      <td>RL</td>\n",
       "      <td>Pave</td>\n",
       "      <td>NotGiven</td>\n",
       "      <td>Reg</td>\n",
       "      <td>Lvl</td>\n",
       "      <td>AllPub</td>\n",
       "      <td>Inside</td>\n",
       "      <td>Gtl</td>\n",
       "      <td>NWAmes</td>\n",
       "      <td>Norm</td>\n",
       "      <td>...</td>\n",
       "      <td>Attchd</td>\n",
       "      <td>RFn</td>\n",
       "      <td>TA</td>\n",
       "      <td>TA</td>\n",
       "      <td>Y</td>\n",
       "      <td>NotGiven</td>\n",
       "      <td>NotGiven</td>\n",
       "      <td>NotGiven</td>\n",
       "      <td>WD</td>\n",
       "      <td>Normal</td>\n",
       "    </tr>\n",
       "    <tr>\n",
       "      <th>538</th>\n",
       "      <td>RL</td>\n",
       "      <td>Pave</td>\n",
       "      <td>NotGiven</td>\n",
       "      <td>IR1</td>\n",
       "      <td>Lvl</td>\n",
       "      <td>AllPub</td>\n",
       "      <td>Inside</td>\n",
       "      <td>Gtl</td>\n",
       "      <td>Sawyer</td>\n",
       "      <td>Norm</td>\n",
       "      <td>...</td>\n",
       "      <td>Attchd</td>\n",
       "      <td>Unf</td>\n",
       "      <td>TA</td>\n",
       "      <td>TA</td>\n",
       "      <td>Y</td>\n",
       "      <td>NotGiven</td>\n",
       "      <td>NotGiven</td>\n",
       "      <td>NotGiven</td>\n",
       "      <td>WD</td>\n",
       "      <td>Normal</td>\n",
       "    </tr>\n",
       "  </tbody>\n",
       "</table>\n",
       "<p>5 rows × 43 columns</p>\n",
       "</div>"
      ],
      "text/plain": [
       "     MSZoning Street     Alley LotShape LandContour Utilities LotConfig  \\\n",
       "1283       RL   Pave  NotGiven      Reg         Low    AllPub    Corner   \n",
       "347        RL   Pave  NotGiven      IR1         Lvl    AllPub    Inside   \n",
       "753        RL   Pave  NotGiven      Reg         Lvl    AllPub    Inside   \n",
       "624        RL   Pave  NotGiven      Reg         Lvl    AllPub    Inside   \n",
       "538        RL   Pave  NotGiven      IR1         Lvl    AllPub    Inside   \n",
       "\n",
       "     LandSlope Neighborhood Condition1  ... GarageType GarageFinish  \\\n",
       "1283       Gtl      Mitchel       Norm  ...   NotGiven     NotGiven   \n",
       "347        Gtl        NAmes       Norm  ...     Attchd          Unf   \n",
       "753        Gtl      NridgHt       Norm  ...     Attchd          RFn   \n",
       "624        Gtl       NWAmes       Norm  ...     Attchd          RFn   \n",
       "538        Gtl       Sawyer       Norm  ...     Attchd          Unf   \n",
       "\n",
       "     GarageQual GarageCond PavedDrive    PoolQC     Fence MiscFeature  \\\n",
       "1283   NotGiven   NotGiven          Y  NotGiven  NotGiven    NotGiven   \n",
       "347          TA         TA          Y  NotGiven  NotGiven    NotGiven   \n",
       "753          TA         TA          Y  NotGiven  NotGiven    NotGiven   \n",
       "624          TA         TA          Y  NotGiven  NotGiven    NotGiven   \n",
       "538          TA         TA          Y  NotGiven  NotGiven    NotGiven   \n",
       "\n",
       "     SaleType SaleCondition  \n",
       "1283       WD        Normal  \n",
       "347        WD        Normal  \n",
       "753        WD        Normal  \n",
       "624        WD        Normal  \n",
       "538        WD        Normal  \n",
       "\n",
       "[5 rows x 43 columns]"
      ]
     },
     "execution_count": 23,
     "metadata": {},
     "output_type": "execute_result"
    }
   ],
   "source": [
    "X_train[categorical].sample(5)"
   ]
  },
  {
   "cell_type": "code",
   "execution_count": 24,
   "metadata": {},
   "outputs": [
    {
     "name": "stdout",
     "output_type": "stream",
     "text": [
      "Size before OneHot: (1022, 79)\n",
      "Size after OneHot: (1022, 294)\n"
     ]
    }
   ],
   "source": [
    "# Закодируйте категориальные признаки числами с помощью OneHotEncoder и обучите модели на всех признаках\n",
    "from sklearn.preprocessing import OneHotEncoder\n",
    "from sklearn.compose import ColumnTransformer\n",
    "\n",
    "\n",
    "column_transformer = ColumnTransformer([\n",
    "    ('scaler', StandardScaler(), numeric_features),\n",
    "    ('one_hot_encoder', OneHotEncoder(handle_unknown='ignore'), categorical)\n",
    "])\n",
    "\n",
    "column_transformer.fit(X_train)\n",
    "print(\"Size before OneHot:\", X_train.shape)\n",
    "print(\"Size after OneHot:\", column_transformer.transform(X_train).shape)"
   ]
  },
  {
   "cell_type": "code",
   "execution_count": 25,
   "metadata": {},
   "outputs": [
    {
     "data": {
      "text/plain": [
       "Pipeline(steps=[('transformer',\n",
       "                 ColumnTransformer(transformers=[('scaler', StandardScaler(),\n",
       "                                                  Index(['MSSubClass', 'LotFrontage', 'LotArea', 'OverallQual', 'OverallCond',\n",
       "       'YearBuilt', 'YearRemodAdd', 'MasVnrArea', 'BsmtFinSF1', 'BsmtFinSF2',\n",
       "       'BsmtUnfSF', 'TotalBsmtSF', '1stFlrSF', '2ndFlrSF', 'LowQualFinSF',\n",
       "       'GrLivArea', 'BsmtFullBath', 'BsmtHalfBath', 'FullBath', 'HalfB...\n",
       "                                                   'LandContour', 'Utilities',\n",
       "                                                   'LotConfig', 'LandSlope',\n",
       "                                                   'Neighborhood', 'Condition1',\n",
       "                                                   'Condition2', 'BldgType',\n",
       "                                                   'HouseStyle', 'RoofStyle',\n",
       "                                                   'RoofMatl', 'Exterior1st',\n",
       "                                                   'Exterior2nd', 'MasVnrType',\n",
       "                                                   'ExterQual', 'ExterCond',\n",
       "                                                   'Foundation', 'BsmtQual',\n",
       "                                                   'BsmtCond', 'BsmtExposure',\n",
       "                                                   'BsmtFinType1',\n",
       "                                                   'BsmtFinType2', 'Heating',\n",
       "                                                   'HeatingQC', 'CentralAir',\n",
       "                                                   'Electrical', ...])])),\n",
       "                ('lasso', Lasso())])"
      ]
     },
     "execution_count": 25,
     "metadata": {},
     "output_type": "execute_result"
    }
   ],
   "source": [
    "# Обучите линейную регрессию с l1 и l2 регуляризаторами\n",
    "pipeline = Pipeline([\n",
    "    ('transformer', column_transformer),\n",
    "    ('ridge', Ridge())])\n",
    "lasso_pipeline = Pipeline([\n",
    "    ('transformer', column_transformer),\n",
    "    ('lasso', Lasso())])\n",
    "\n",
    "pipeline.fit(X_train, y_train)\n",
    "lasso_pipeline.fit(X_train, y_train)"
   ]
  },
  {
   "cell_type": "code",
   "execution_count": 26,
   "metadata": {},
   "outputs": [
    {
     "name": "stdout",
     "output_type": "stream",
     "text": [
      "ridge train score: 0.921779831490738\n",
      "ridge test score: 0.8820887217380236\n",
      "lasso train score: 0.9356839818387286\n",
      "lasso test score: 0.8803828192109292\n"
     ]
    }
   ],
   "source": [
    "print('ridge train score:', pipeline.score(X_train, y_train))\n",
    "print('ridge test score:', pipeline.score(X_test, y_test))\n",
    "print('lasso train score:', lasso_pipeline.score(X_train, y_train))\n",
    "print('lasso test score:', lasso_pipeline.score(X_test, y_test))"
   ]
  },
  {
   "cell_type": "code",
   "execution_count": 27,
   "metadata": {},
   "outputs": [
    {
     "name": "stdout",
     "output_type": "stream",
     "text": [
      "Zero weights in Ridge: 0\n",
      "Zero weights in Lasso: 27\n"
     ]
    }
   ],
   "source": [
    "ridge_zeros = np.sum(pipeline.steps[-1][-1].coef_ == 0)\n",
    "lasso_zeros = np.sum(lasso_pipeline.steps[-1][-1].coef_ == 0)\n",
    "print(\"Zero weights in Ridge:\", ridge_zeros)\n",
    "print(\"Zero weights in Lasso:\", lasso_zeros)"
   ]
  },
  {
   "cell_type": "code",
   "execution_count": 28,
   "metadata": {},
   "outputs": [],
   "source": [
    "# Подберите коэффициент регуляризации для всех моделей, воспользуясь GridSearchCV\n",
    "pipeline = Pipeline([\n",
    "    ('transformer', column_transformer),\n",
    "    ('ridge', Ridge())])\n",
    "lasso_pipeline = Pipeline([\n",
    "    ('transformer', column_transformer),\n",
    "    ('lasso', Lasso())])"
   ]
  },
  {
   "cell_type": "code",
   "execution_count": 29,
   "metadata": {},
   "outputs": [
    {
     "name": "stdout",
     "output_type": "stream",
     "text": [
      "{'ridge__alpha': 4}\n",
      "0.7628744155557651\n"
     ]
    }
   ],
   "source": [
    "grid_search_ridge = GridSearchCV(\n",
    "    pipeline,\n",
    "    [{'ridge__alpha': np.arange(-5, 5)}],\n",
    "    cv=5, n_jobs=-1)\n",
    "grid_search_ridge.fit(X_train, y_train)\n",
    "print(grid_search_ridge.best_params_)\n",
    "print(grid_search_ridge.best_score_)"
   ]
  },
  {
   "cell_type": "code",
   "execution_count": 30,
   "metadata": {},
   "outputs": [
    {
     "name": "stdout",
     "output_type": "stream",
     "text": [
      "{'lasso__alpha': 1}\n",
      "0.7253156023558234\n"
     ]
    }
   ],
   "source": [
    "grid_search_lasso = GridSearchCV(\n",
    "    lasso_pipeline,\n",
    "    [{'lasso__alpha': np.arange(-5, 5)}],\n",
    "    cv=5, n_jobs=-1)\n",
    "grid_search_lasso.fit(X_train, y_train)\n",
    "print(grid_search_lasso.best_params_)\n",
    "print(grid_search_lasso.best_score_)\n"
   ]
  },
  {
   "cell_type": "code",
   "execution_count": 31,
   "metadata": {},
   "outputs": [
    {
     "data": {
      "text/plain": [
       "Pipeline(steps=[('transformer',\n",
       "                 ColumnTransformer(transformers=[('scaler', StandardScaler(),\n",
       "                                                  Index(['MSSubClass', 'LotFrontage', 'LotArea', 'OverallQual', 'OverallCond',\n",
       "       'YearBuilt', 'YearRemodAdd', 'MasVnrArea', 'BsmtFinSF1', 'BsmtFinSF2',\n",
       "       'BsmtUnfSF', 'TotalBsmtSF', '1stFlrSF', '2ndFlrSF', 'LowQualFinSF',\n",
       "       'GrLivArea', 'BsmtFullBath', 'BsmtHalfBath', 'FullBath', 'HalfB...\n",
       "                                                   'LandContour', 'Utilities',\n",
       "                                                   'LotConfig', 'LandSlope',\n",
       "                                                   'Neighborhood', 'Condition1',\n",
       "                                                   'Condition2', 'BldgType',\n",
       "                                                   'HouseStyle', 'RoofStyle',\n",
       "                                                   'RoofMatl', 'Exterior1st',\n",
       "                                                   'Exterior2nd', 'MasVnrType',\n",
       "                                                   'ExterQual', 'ExterCond',\n",
       "                                                   'Foundation', 'BsmtQual',\n",
       "                                                   'BsmtCond', 'BsmtExposure',\n",
       "                                                   'BsmtFinType1',\n",
       "                                                   'BsmtFinType2', 'Heating',\n",
       "                                                   'HeatingQC', 'CentralAir',\n",
       "                                                   'Electrical', ...])])),\n",
       "                ('ridge', Ridge(alpha=4))])"
      ]
     },
     "execution_count": 31,
     "metadata": {},
     "output_type": "execute_result"
    }
   ],
   "source": [
    "model = pipeline = Pipeline([\n",
    "    ('transformer', column_transformer),\n",
    "    ('ridge', Ridge(alpha=4))])\n",
    "model.fit(X_train, y_train)"
   ]
  },
  {
   "cell_type": "code",
   "execution_count": 32,
   "metadata": {},
   "outputs": [
    {
     "name": "stdout",
     "output_type": "stream",
     "text": [
      "rmse train 24422.360583677386\n",
      "rmse test 26021.396457001643\n"
     ]
    }
   ],
   "source": [
    "print('rmse train', rmse(model.predict(X_train), y_train))\n",
    "print('rmse test', rmse(model.predict(X_test), y_test))"
   ]
  },
  {
   "cell_type": "code",
   "execution_count": 33,
   "metadata": {},
   "outputs": [
    {
     "data": {
      "text/plain": [
       "<AxesSubplot:xlabel='SalePrice', ylabel='Density'>"
      ]
     },
     "execution_count": 33,
     "metadata": {},
     "output_type": "execute_result"
    },
    {
     "data": {
      "image/png": "[encoded data removed]",
      "text/plain": [
       "<Figure size 432x288 with 1 Axes>"
      ]
     },
     "metadata": {},
     "output_type": "display_data"
    }
   ],
   "source": [
    "error = (y_train - model.predict(X_train)) ** 2\n",
    "sns.distplot(error)"
   ]
  },
  {
   "cell_type": "markdown",
   "metadata": {},
   "source": [
    "Как видно из гистограммы, есть примеры с очень большими остатками. Попробуем их выбросить из обучающей выборки. Например, выбросим примеры, остаток у которых больше 0.95-квантили."
   ]
  },
  {
   "cell_type": "code",
   "execution_count": 34,
   "metadata": {},
   "outputs": [
    {
     "data": {
      "text/plain": [
       "912     True\n",
       "373     True\n",
       "20      True\n",
       "800     True\n",
       "152     True\n",
       "        ... \n",
       "1393    True\n",
       "1344    True\n",
       "527     True\n",
       "1149    True\n",
       "1289    True\n",
       "Name: SalePrice, Length: 1022, dtype: bool"
      ]
     },
     "execution_count": 34,
     "metadata": {},
     "output_type": "execute_result"
    }
   ],
   "source": [
    "# Выбросите из обучающей выборки примеры, остаток у которых больше 0.95-квантили и переобучите модели \n",
    "mask = error < error.quantile(0.95)\n",
    "mask"
   ]
  },
  {
   "cell_type": "code",
   "execution_count": 35,
   "metadata": {},
   "outputs": [
    {
     "data": {
      "text/plain": [
       "Pipeline(steps=[('transformer',\n",
       "                 ColumnTransformer(transformers=[('scaler', StandardScaler(),\n",
       "                                                  Index(['MSSubClass', 'LotFrontage', 'LotArea', 'OverallQual', 'OverallCond',\n",
       "       'YearBuilt', 'YearRemodAdd', 'MasVnrArea', 'BsmtFinSF1', 'BsmtFinSF2',\n",
       "       'BsmtUnfSF', 'TotalBsmtSF', '1stFlrSF', '2ndFlrSF', 'LowQualFinSF',\n",
       "       'GrLivArea', 'BsmtFullBath', 'BsmtHalfBath', 'FullBath', 'HalfB...\n",
       "                                                   'LandContour', 'Utilities',\n",
       "                                                   'LotConfig', 'LandSlope',\n",
       "                                                   'Neighborhood', 'Condition1',\n",
       "                                                   'Condition2', 'BldgType',\n",
       "                                                   'HouseStyle', 'RoofStyle',\n",
       "                                                   'RoofMatl', 'Exterior1st',\n",
       "                                                   'Exterior2nd', 'MasVnrType',\n",
       "                                                   'ExterQual', 'ExterCond',\n",
       "                                                   'Foundation', 'BsmtQual',\n",
       "                                                   'BsmtCond', 'BsmtExposure',\n",
       "                                                   'BsmtFinType1',\n",
       "                                                   'BsmtFinType2', 'Heating',\n",
       "                                                   'HeatingQC', 'CentralAir',\n",
       "                                                   'Electrical', ...])])),\n",
       "                ('ridge', Ridge(alpha=4))])"
      ]
     },
     "execution_count": 35,
     "metadata": {},
     "output_type": "execute_result"
    }
   ],
   "source": [
    "model = Pipeline([\n",
    "    ('transformer', column_transformer),\n",
    "    ('ridge', Ridge(alpha=4))])\n",
    "model.fit(X_train[mask], y_train[mask])"
   ]
  },
  {
   "cell_type": "code",
   "execution_count": 36,
   "metadata": {},
   "outputs": [
    {
     "data": {
      "text/plain": [
       "<AxesSubplot:xlabel='SalePrice', ylabel='Density'>"
      ]
     },
     "execution_count": 36,
     "metadata": {},
     "output_type": "execute_result"
    },
    {
     "data": {
      "image/png": "[encoded data removed]",
      "text/plain": [
       "<Figure size 432x288 with 1 Axes>"
      ]
     },
     "metadata": {},
     "output_type": "display_data"
    }
   ],
   "source": [
    "error = (y_train[mask] - model.predict(X_train[mask])) ** 2\n",
    "sns.distplot(error)"
   ]
  },
  {
   "cell_type": "code",
   "execution_count": 37,
   "metadata": {},
   "outputs": [
    {
     "name": "stdout",
     "output_type": "stream",
     "text": [
      "rmse train 12472.867191310776\n",
      "r2 train 0.9649459402936085\n",
      "rmse test 23234.635080138403\n",
      "r2 test 0.892450040801135\n"
     ]
    }
   ],
   "source": [
    "# Получите скор по нашей метрике (RMSE) ниже значения 30000\n",
    "print('rmse train', rmse(model.predict(X_train[mask]), y_train[mask]))\n",
    "print('r2 train', r2_score(model.predict(X_train[mask]), y_train[mask]))\n",
    "print('rmse test', rmse(model.predict(X_test), y_test))\n",
    "print('r2 test', r2_score(model.predict(X_test), y_test)) "
   ]
  }
 ],
 "metadata": {
  "kernelspec": {
   "display_name": "Python 3",
   "language": "python",
   "name": "python3"
  },
  "language_info": {
   "codemirror_mode": {
    "name": "ipython",
    "version": 3
   },
   "file_extension": ".py",
   "mimetype": "text/x-python",
   "name": "python",
   "nbconvert_exporter": "python",
   "pygments_lexer": "ipython3",
   "version": "3.8.8"
  }
 },
 "nbformat": 4,
 "nbformat_minor": 4
}
