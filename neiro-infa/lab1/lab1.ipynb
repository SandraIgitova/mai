{
 "cells": [
  {
   "cell_type": "markdown",
   "source": [
    "# Лабораторная работа 1\n",
    "## Персептрон"
   ],
   "metadata": {
    "collapsed": false,
    "pycharm": {
     "name": "#%% md\n"
    }
   }
  },
  {
   "cell_type": "code",
   "execution_count": 978,
   "metadata": {
    "collapsed": true
   },
   "outputs": [],
   "source": [
    "import numpy as np\n",
    "import matplotlib.pyplot as plt"
   ]
  },
  {
   "cell_type": "markdown",
   "source": [
    "## Класс персептрона для классификации на 2 класса"
   ],
   "metadata": {
    "collapsed": false,
    "pycharm": {
     "name": "#%% md\n"
    }
   }
  },
  {
   "cell_type": "code",
   "execution_count": 1001,
   "outputs": [],
   "source": [
    "class Perceptron:\n",
    "\n",
    "    def __init__(self, in_size, learning_rate):\n",
    "        self.w = np.random.randn(in_size + 1) / np.sqrt(in_size)\n",
    "        self.learning_rate = learning_rate\n",
    "\n",
    "    def loss(self, x):\n",
    "        return 1 if x > 0 else 0\n",
    "\n",
    "    def fit(self, X, y, epochs=10):\n",
    "        X = np.c_[X, np.ones((X.shape[0]))]\n",
    "        for epoch in np.arange(0, epochs):\n",
    "            for (x, target) in zip(X, y):\n",
    "                p = self.loss(np.dot(x, self.w))\n",
    "                if p != target:\n",
    "                    error = (p - target)\n",
    "                    self.w -= self.learning_rate * error * x\n",
    "            print(f'Epoch: {epoch+1}, error: {error}, weights: {self.w}')\n",
    "\n",
    "    def predict(self, X):\n",
    "        X = np.atleast_2d(X)\n",
    "        X = np.c_[X, np.ones((X.shape[0]))]\n",
    "        return self.loss(np.dot(X, self.w))\n",
    "\n",
    "    def get_weights(self):\n",
    "        return self.w"
   ],
   "metadata": {
    "collapsed": false,
    "pycharm": {
     "name": "#%%\n"
    }
   }
  },
  {
   "cell_type": "markdown",
   "source": [
    "## Обучающая выборка 1"
   ],
   "metadata": {
    "collapsed": false,
    "pycharm": {
     "name": "#%% md\n"
    }
   }
  },
  {
   "cell_type": "code",
   "execution_count": 1002,
   "outputs": [],
   "source": [
    "points1 = np.array([\n",
    "    [4.7, 3.6],\n",
    "    [-4.2, -1.4],\n",
    "    [-1.4, 1.8],\n",
    "    [0.9, 2.8],\n",
    "    [-1.4, -3],\n",
    "    [-4.2, 2.7],\n",
    "], dtype=np.float64)\n",
    "labels1 = np.array([0, 1, 1, 1, 1, 1], dtype=np.int32)"
   ],
   "metadata": {
    "collapsed": false,
    "pycharm": {
     "name": "#%%\n"
    }
   }
  },
  {
   "cell_type": "code",
   "execution_count": 1003,
   "outputs": [
    {
     "name": "stdout",
     "output_type": "stream",
     "text": [
      "Epoch: 1, error: 1, weights: [-0.30465275  0.26805323  0.92239241]\n",
      "Epoch: 2, error: -1, weights: [-0.68465275  0.18805323  0.92239241]\n",
      "Epoch: 3, error: -1, weights: [-0.68465275  0.18805323  0.92239241]\n",
      "Epoch: 4, error: -1, weights: [-0.68465275  0.18805323  0.92239241]\n",
      "Epoch: 5, error: -1, weights: [-0.68465275  0.18805323  0.92239241]\n",
      "Epoch: 6, error: -1, weights: [-0.68465275  0.18805323  0.92239241]\n",
      "Epoch: 7, error: -1, weights: [-0.68465275  0.18805323  0.92239241]\n",
      "Epoch: 8, error: -1, weights: [-0.68465275  0.18805323  0.92239241]\n",
      "Epoch: 9, error: -1, weights: [-0.68465275  0.18805323  0.92239241]\n",
      "Epoch: 10, error: -1, weights: [-0.68465275  0.18805323  0.92239241]\n"
     ]
    }
   ],
   "source": [
    "perceptron = Perceptron(2, 0.1)\n",
    "perceptron.fit(points1, labels1)\n",
    "\n",
    "weights = perceptron.get_weights()"
   ],
   "metadata": {
    "collapsed": false,
    "pycharm": {
     "name": "#%%\n"
    }
   }
  },
  {
   "cell_type": "code",
   "execution_count": 1004,
   "outputs": [
    {
     "data": {
      "text/plain": "<Figure size 864x648 with 1 Axes>",
      "image/png": "[encoded data removed]"
     },
     "metadata": {
      "needs_background": "light"
     },
     "output_type": "display_data"
    }
   ],
   "source": [
    "x = np.arange(-5, 5, 0.1)\n",
    "y = np.apply_along_axis(lambda t: (-weights[2] - t * weights[0]) / weights[1], 0, x)\n",
    "\n",
    "x_c1 = points1[labels1 == 0, 0]\n",
    "y_c1 = points1[labels1 == 0, 1]\n",
    "\n",
    "x_c2 = points1[labels1 == 1, 0]\n",
    "y_c2 = points1[labels1 == 1, 1]\n",
    "\n",
    "test_points1 = np.random.randn(3, 2) * 2\n",
    "\n",
    "plt.figure(figsize=(12, 9))\n",
    "plt.ylim(-5, 5)\n",
    "plt.title('График классификации на 2 класса')\n",
    "line = plt.plot(x, y, label='Разделяющая прямая')\n",
    "c1 = plt.scatter(x_c1, y_c1, label='Класс 0')\n",
    "c2 = plt.scatter(x_c2, y_c2, label='Класс 1')\n",
    "test = plt.scatter(test_points1[:,0], test_points1[:,1], label='Тестовые точки')\n",
    "plt.legend(bbox_to_anchor=(1.05, 1), loc='upper left', borderaxespad=0.)\n",
    "plt.grid(True)\n",
    "plt.xlabel('x')\n",
    "plt.ylabel('y')\n",
    "plt.show()"
   ],
   "metadata": {
    "collapsed": false,
    "pycharm": {
     "name": "#%%\n"
    }
   }
  },
  {
   "cell_type": "markdown",
   "source": [
    "## Предсказание для сгенерированных точек"
   ],
   "metadata": {
    "collapsed": false,
    "pycharm": {
     "name": "#%% md\n"
    }
   }
  },
  {
   "cell_type": "code",
   "execution_count": 983,
   "outputs": [
    {
     "name": "stdout",
     "output_type": "stream",
     "text": [
      "Point: [-1.33500985 -0.42233552] Predict class: 1\n",
      "Point: [3.4167417  0.11553175] Predict class: 0\n",
      "Point: [-1.53051761  1.25507008] Predict class: 1\n"
     ]
    }
   ],
   "source": [
    "for test_point in test_points1:\n",
    "    print(f'Point: {test_point} Predict class: {perceptron.predict(test_point)}')"
   ],
   "metadata": {
    "collapsed": false,
    "pycharm": {
     "name": "#%%\n"
    }
   }
  },
  {
   "cell_type": "markdown",
   "source": [
    "### Добавление точки для получения двух линейно неразделимых множеств"
   ],
   "metadata": {
    "collapsed": false,
    "pycharm": {
     "name": "#%% md\n"
    }
   }
  },
  {
   "cell_type": "code",
   "execution_count": 984,
   "outputs": [],
   "source": [
    "points1 = np.concatenate([points1, np.array([[-2, 2.5]])])\n",
    "labels1 = np.concatenate([labels1, np.array([0])])"
   ],
   "metadata": {
    "collapsed": false,
    "pycharm": {
     "name": "#%%\n"
    }
   }
  },
  {
   "cell_type": "code",
   "execution_count": 1000,
   "outputs": [
    {
     "ename": "TypeError",
     "evalue": "__init__() missing 1 required positional argument: 'learning_rate'",
     "output_type": "error",
     "traceback": [
      "\u001B[0;31m---------------------------------------------------------------------------\u001B[0m",
      "\u001B[0;31mTypeError\u001B[0m                                 Traceback (most recent call last)",
      "\u001B[0;32m<ipython-input-1000-81a1c13c97dd>\u001B[0m in \u001B[0;36m<module>\u001B[0;34m\u001B[0m\n\u001B[0;32m----> 1\u001B[0;31m \u001B[0mperceptron\u001B[0m \u001B[0;34m=\u001B[0m \u001B[0mPerceptron\u001B[0m\u001B[0;34m(\u001B[0m\u001B[0;36m2\u001B[0m\u001B[0;34m,\u001B[0m \u001B[0;36m0.1\u001B[0m\u001B[0;34m)\u001B[0m\u001B[0;34m\u001B[0m\u001B[0;34m\u001B[0m\u001B[0m\n\u001B[0m\u001B[1;32m      2\u001B[0m \u001B[0mperceptron\u001B[0m\u001B[0;34m.\u001B[0m\u001B[0mfit\u001B[0m\u001B[0;34m(\u001B[0m\u001B[0mpoints1\u001B[0m\u001B[0;34m,\u001B[0m \u001B[0mlabels1\u001B[0m\u001B[0;34m)\u001B[0m\u001B[0;34m\u001B[0m\u001B[0;34m\u001B[0m\u001B[0m\n\u001B[1;32m      3\u001B[0m \u001B[0;34m\u001B[0m\u001B[0m\n\u001B[1;32m      4\u001B[0m \u001B[0mweights\u001B[0m \u001B[0;34m=\u001B[0m \u001B[0mperceptron\u001B[0m\u001B[0;34m.\u001B[0m\u001B[0mget_weights\u001B[0m\u001B[0;34m(\u001B[0m\u001B[0;34m)\u001B[0m\u001B[0;34m\u001B[0m\u001B[0;34m\u001B[0m\u001B[0m\n\u001B[1;32m      5\u001B[0m \u001B[0;34m\u001B[0m\u001B[0m\n",
      "\u001B[0;31mTypeError\u001B[0m: __init__() missing 1 required positional argument: 'learning_rate'"
     ]
    }
   ],
   "source": [
    "perceptron = Perceptron(2, 0.1)\n",
    "perceptron.fit(points1, labels1)\n",
    "\n",
    "weights = perceptron.get_weights()\n",
    "\n",
    "x = np.arange(-5, 5, 0.1)\n",
    "y = np.apply_along_axis(lambda t: (-weights[2] - t * weights[0]) / weights[1], 0, x)\n",
    "\n",
    "x_c1 = points1[labels1 == 0, 0]\n",
    "y_c1 = points1[labels1 == 0, 1]\n",
    "\n",
    "x_c2 = points1[labels1 == 1, 0]\n",
    "y_c2 = points1[labels1 == 1, 1]\n",
    "\n",
    "plt.figure(figsize=(12, 9))\n",
    "plt.ylim(-5, 5)\n",
    "plt.title('График классификации на 2 класса при линейно неразделимых множествах')\n",
    "plt.plot(x, y, label='Разделяющая прямая')\n",
    "plt.scatter(x_c1, y_c1, label='Класс 0')\n",
    "plt.scatter(x_c2, y_c2, label='Класс 1')\n",
    "plt.legend(bbox_to_anchor=(1.05, 1), loc='upper left', borderaxespad=0.)\n",
    "plt.grid(True)\n",
    "plt.xlabel('x')\n",
    "plt.ylabel('y')\n",
    "plt.show()"
   ],
   "metadata": {
    "collapsed": false,
    "pycharm": {
     "name": "#%%\n"
    }
   }
  },
  {
   "cell_type": "markdown",
   "source": [
    "Как видно из графика, после добавления дополнительной точки, множества стали линейно неразделимы и поэтому персептрон, не смог разделить точки на 2 класса"
   ],
   "metadata": {
    "collapsed": false,
    "pycharm": {
     "name": "#%% md\n"
    }
   }
  },
  {
   "cell_type": "markdown",
   "source": [
    "## Класс персептрона для классификации на 4 класса"
   ],
   "metadata": {
    "collapsed": false,
    "pycharm": {
     "name": "#%% md\n"
    }
   }
  },
  {
   "cell_type": "code",
   "execution_count": 986,
   "outputs": [],
   "source": [
    "class Perceptron:\n",
    "\n",
    "    def __init__(self, in_size, out_size, learning_rate):\n",
    "        self.w = np.random.randn(out_size, in_size + 1) / np.sqrt(in_size)\n",
    "        self.learning_rate = learning_rate\n",
    "\n",
    "    def loss(self, x):\n",
    "        return np.vectorize(lambda t: 1 if t > 0 else 0)(x)\n",
    "\n",
    "    def fit(self, X, y, epochs=10):\n",
    "        X = np.c_[X, np.ones((X.shape[0]))]\n",
    "        for epoch in np.arange(0, epochs):\n",
    "            for (x, target) in zip(X, y):\n",
    "                p = self.loss(np.dot(x, self.w.T))\n",
    "                if not np.array_equal(p, target):\n",
    "                    error = np.reshape(p - target, (2, 1))\n",
    "                    self.w -= self.learning_rate * error * x\n",
    "            print(f'Epoch: {epoch+1}, error: {error.T}, weights: {self.w}')\n",
    "\n",
    "    def predict(self, X):\n",
    "        X = np.atleast_2d(X)\n",
    "        X = np.c_[X, np.ones((X.shape[0]))]\n",
    "        return self.loss(np.dot(X, self.w.T))\n",
    "\n",
    "    def get_weights(self):\n",
    "        return self.w"
   ],
   "metadata": {
    "collapsed": false,
    "pycharm": {
     "name": "#%%\n"
    }
   }
  },
  {
   "cell_type": "code",
   "execution_count": 996,
   "outputs": [],
   "source": [
    "points2 = np.array([\n",
    "    [-2.7, -3.9],\n",
    "    [1, -0.5],\n",
    "    [-0.5, 1.6],\n",
    "    [2.7, -1.5],\n",
    "    [1.6, -0.9],\n",
    "    [3.4, 3.3],\n",
    "    [-2.5, 1.1],\n",
    "    [0.8, 0.4]\n",
    "], dtype=np.float64)\n",
    "labels2 = np.array([\n",
    "    [1, 1],\n",
    "    [0, 0],\n",
    "    [1, 0],\n",
    "    [0, 0],\n",
    "    [0, 0],\n",
    "    [0, 0],\n",
    "    [1, 1],\n",
    "    [0, 0]\n",
    "], dtype=np.int32)"
   ],
   "metadata": {
    "collapsed": false,
    "pycharm": {
     "name": "#%%\n"
    }
   }
  },
  {
   "cell_type": "code",
   "execution_count": 997,
   "outputs": [
    {
     "name": "stdout",
     "output_type": "stream",
     "text": [
      "Epoch: 1, error: [[-1  0]], weights: [[-0.85588567 -0.31851612 -1.09648831]\n",
      " [-0.58024899  0.41551593  0.10798158]]\n",
      "Epoch: 2, error: [[-1  1]], weights: [[-0.90588567 -0.15851612 -0.99648831]\n",
      " [-0.53024899  0.25551593  0.00798158]]\n",
      "Epoch: 3, error: [[-1  1]], weights: [[-0.95588567  0.00148388 -0.89648831]\n",
      " [-0.48024899  0.09551593 -0.09201842]]\n",
      "Epoch: 4, error: [[-1  1]], weights: [[-1.00588567  0.16148388 -0.79648831]\n",
      " [-0.43024899 -0.06448407 -0.19201842]]\n",
      "Epoch: 5, error: [[-1  0]], weights: [[-1.05588567  0.32148388 -0.69648831]\n",
      " [-0.43024899 -0.06448407 -0.19201842]]\n",
      "Epoch: 6, error: [[-1  0]], weights: [[-1.05588567  0.32148388 -0.69648831]\n",
      " [-0.43024899 -0.06448407 -0.19201842]]\n",
      "Epoch: 7, error: [[-1  0]], weights: [[-1.05588567  0.32148388 -0.69648831]\n",
      " [-0.43024899 -0.06448407 -0.19201842]]\n",
      "Epoch: 8, error: [[-1  0]], weights: [[-1.05588567  0.32148388 -0.69648831]\n",
      " [-0.43024899 -0.06448407 -0.19201842]]\n",
      "Epoch: 9, error: [[-1  0]], weights: [[-1.05588567  0.32148388 -0.69648831]\n",
      " [-0.43024899 -0.06448407 -0.19201842]]\n",
      "Epoch: 10, error: [[-1  0]], weights: [[-1.05588567  0.32148388 -0.69648831]\n",
      " [-0.43024899 -0.06448407 -0.19201842]]\n"
     ]
    }
   ],
   "source": [
    "perceptron = Perceptron(2, 2, 0.1)\n",
    "perceptron.fit(points2, labels2)\n",
    "weights = perceptron.get_weights()\n"
   ],
   "metadata": {
    "collapsed": false,
    "pycharm": {
     "name": "#%%\n"
    }
   }
  },
  {
   "cell_type": "code",
   "execution_count": 998,
   "outputs": [],
   "source": [
    "def partition_on_class(points, labels, mask):\n",
    "    res = []\n",
    "    for i in np.arange(points.shape[0]):\n",
    "        if np.array_equal(labels[i], mask):\n",
    "            res.append(points[i])\n",
    "    return np.array(res)"
   ],
   "metadata": {
    "collapsed": false,
    "pycharm": {
     "name": "#%%\n"
    }
   }
  },
  {
   "cell_type": "code",
   "execution_count": 999,
   "outputs": [
    {
     "data": {
      "text/plain": "<Figure size 864x648 with 1 Axes>",
      "image/png": "[encoded data removed]"
     },
     "metadata": {
      "needs_background": "light"
     },
     "output_type": "display_data"
    }
   ],
   "source": [
    "x = np.arange(-5, 5, 0.1)\n",
    "\n",
    "y1 = np.vectorize(lambda t: (-weights[0][2] - t * weights[0][0]) / weights[0][1])(x)\n",
    "y2 = np.vectorize(lambda t: (-weights[1][2] - t * weights[1][0]) / weights[1][1])(x)\n",
    "\n",
    "points_c1 = partition_on_class(points2, labels2, [0, 0])\n",
    "points_c2 = partition_on_class(points2, labels2, [0, 1])\n",
    "points_c3 = partition_on_class(points2, labels2, [1, 0])\n",
    "points_c4 = partition_on_class(points2, labels2, [1, 1])\n",
    "\n",
    "test_points2 = np.random.randn(5, 2) * 3\n",
    "\n",
    "plt.figure(figsize=(12, 9))\n",
    "plt.ylim(-5, 5)\n",
    "plt.title('График классификации на 4 класса')\n",
    "plt.plot(x, y1, label='Разделяющая прямая 1')\n",
    "plt.plot(x, y2, label='Разделяющая паямая 2')\n",
    "plt.scatter(points_c1[:,0], points_c1[:,1], label='Класс (0, 0)')\n",
    "plt.scatter(points_c3[:,0], points_c3[:,1], label='Класс (1, 0)')\n",
    "plt.scatter(points_c4[:,0], points_c4[:,1], label='Класс (1, 1)')\n",
    "plt.scatter(test_points2[:,0], test_points2[:,1], label='Тестовые точки')\n",
    "plt.legend(bbox_to_anchor=(1.05, 1), loc='upper left', borderaxespad=0.)\n",
    "plt.grid(True)\n",
    "plt.xlabel('x')\n",
    "plt.ylabel('y')\n",
    "plt.show()"
   ],
   "metadata": {
    "collapsed": false,
    "pycharm": {
     "name": "#%%\n"
    }
   }
  },
  {
   "cell_type": "markdown",
   "source": [
    "## Предсказание для сгенерированных точек"
   ],
   "metadata": {
    "collapsed": false,
    "pycharm": {
     "name": "#%% md\n"
    }
   }
  },
  {
   "cell_type": "code",
   "execution_count": 991,
   "outputs": [
    {
     "name": "stdout",
     "output_type": "stream",
     "text": [
      "Point: [-0.98441251 -1.71782616] Predict class: [[1 1]]\n",
      "Point: [-0.9664006  -1.21512403] Predict class: [[1 1]]\n",
      "Point: [-7.45454732 -0.68411359] Predict class: [[1 1]]\n",
      "Point: [1.47097375 2.85258495] Predict class: [[0 0]]\n",
      "Point: [-0.39404034 -4.99372643] Predict class: [[1 1]]\n"
     ]
    }
   ],
   "source": [
    "for test_point in test_points2:\n",
    "    print(f'Point: {test_point} Predict class: {perceptron.predict(test_point)}')"
   ],
   "metadata": {
    "collapsed": false,
    "pycharm": {
     "name": "#%%\n"
    }
   }
  },
  {
   "cell_type": "code",
   "execution_count": 992,
   "outputs": [
    {
     "name": "stdout",
     "output_type": "stream",
     "text": [
      "[1 4 7]\n",
      "[[1 4 7]]\n"
     ]
    }
   ],
   "source": [
    "a = np.array([1, 4, 7])\n",
    "print(a)\n",
    "print(np.atleast_2d(a))"
   ],
   "metadata": {
    "collapsed": false,
    "pycharm": {
     "name": "#%%\n"
    }
   }
  },
  {
   "cell_type": "code",
   "execution_count": 992,
   "outputs": [],
   "source": [],
   "metadata": {
    "collapsed": false,
    "pycharm": {
     "name": "#%%\n"
    }
   }
  }
 ],
 "metadata": {
  "kernelspec": {
   "display_name": "Python 3",
   "language": "python",
   "name": "python3"
  },
  "language_info": {
   "codemirror_mode": {
    "name": "ipython",
    "version": 2
   },
   "file_extension": ".py",
   "mimetype": "text/x-python",
   "name": "python",
   "nbconvert_exporter": "python",
   "pygments_lexer": "ipython2",
   "version": "2.7.6"
  }
 },
 "nbformat": 4,
 "nbformat_minor": 0
}